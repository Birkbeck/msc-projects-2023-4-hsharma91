{
 "cells": [
  {
   "cell_type": "code",
   "execution_count": 7,
   "metadata": {},
   "outputs": [
    {
     "name": "stderr",
     "output_type": "stream",
     "text": [
      "C:\\Users\\hshar\\AppData\\Local\\Temp\\ipykernel_39128\\1954864912.py:46: FutureWarning: 'M' is deprecated and will be removed in a future version, please use 'ME' instead.\n",
      "  monthly_dates_precise = pd.date_range(start=start_date, periods=len(monthly_values_rbf_precise), freq='M')\n"
     ]
    }
   ],
   "source": [
    "import pandas as pd\n",
    "import numpy as np\n",
    "from scipy.interpolate import Rbf\n",
    "\n",
    "# Load the Excel file\n",
    "file_path = 'InputData.xlsx'\n",
    "data = pd.read_excel(file_path, sheet_name='Sheet1')\n",
    "\n",
    "# Extract the years and values from the dataset\n",
    "years = data['Year'].values\n",
    "values = data['Individuals using the Internet (% of population)'].values\n",
    "\n",
    "# Adjust the years to represent December snapshots\n",
    "years_adjusted = years + (11/12)\n",
    "\n",
    "# Generate monthly points from Dec 2010 to March 2024\n",
    "months_per_year = 12\n",
    "num_months = int((years_adjusted.max() - years_adjusted.min()) * 12 + 4)\n",
    "monthly_years_adjusted = np.linspace(years_adjusted.min(), years_adjusted.max() + (3 / 12), num_months)\n",
    "\n",
    "# Use Gaussian Radial Basis Function (RBF) for smooth interpolation\n",
    "rbf_quadratic = Rbf(years_adjusted, values, function='quintic')\n",
    "\n",
    "\n",
    "monthly_values_rbf_precise = []\n",
    "for i in range(len(years_adjusted) - 1):\n",
    "    dec_current_value = values[i]\n",
    "    dec_next_value = values[i + 1]\n",
    "    \n",
    "    # Interpolate for each year range\n",
    "    rbf_interpolated = rbf_quadratic(np.linspace(years_adjusted[i], years_adjusted[i+1], months_per_year))\n",
    "    \n",
    "    rbf_clipped = np.clip(rbf_interpolated, dec_current_value, dec_next_value)\n",
    "    \n",
    "    monthly_values_rbf_precise.extend(rbf_clipped)\n",
    "\n",
    "\n",
    "monthly_values_rbf_precise.append(values[-1])\n",
    "\n",
    "\n",
    "extended_values_rbf = rbf_quadratic(monthly_years_adjusted[-3:])\n",
    "monthly_values_rbf_precise.extend(extended_values_rbf)\n",
    "\n",
    "# Generate the corresponding dates from Dec 2010 to March 2024\n",
    "start_date = pd.to_datetime('2010-12-01')\n",
    "monthly_dates_precise = pd.date_range(start=start_date, periods=len(monthly_values_rbf_precise), freq='M')\n",
    "\n",
    "# Create a DataFrame and round values to two decimal places\n",
    "final_monthly_data_precise = pd.DataFrame({\n",
    "    'Month_Year': monthly_dates_precise.strftime('%b-%Y'),\n",
    "    'Estimated Individuals using the Internet (% of population)': np.round(monthly_values_rbf_precise, 2)\n",
    "})\n",
    "\n",
    "# Save the final result to a CSV file\n",
    "output_csv_precise_path = 'IUI_Monthly_Data.csv'\n",
    "final_monthly_data_precise.to_csv(output_csv_precise_path, index=False)\n"
   ]
  }
 ],
 "metadata": {
  "kernelspec": {
   "display_name": "Python 3",
   "language": "python",
   "name": "python3"
  },
  "language_info": {
   "codemirror_mode": {
    "name": "ipython",
    "version": 3
   },
   "file_extension": ".py",
   "mimetype": "text/x-python",
   "name": "python",
   "nbconvert_exporter": "python",
   "pygments_lexer": "ipython3",
   "version": "3.11.0"
  }
 },
 "nbformat": 4,
 "nbformat_minor": 2
}
